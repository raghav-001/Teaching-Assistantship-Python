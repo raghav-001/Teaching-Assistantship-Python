{
 "cells": [
  {
   "cell_type": "markdown",
   "metadata": {},
   "source": [
    "# 20-11-2021"
   ]
  },
  {
   "cell_type": "markdown",
   "metadata": {},
   "source": [
    "# SEARCHING TECHNIQUES: BINARY SEARCH AND SEQUENTIAL SEARCH"
   ]
  },
  {
   "cell_type": "markdown",
   "metadata": {},
   "source": [
    "### BINARY SEARCH (NON RECURSIVE APPROACH)"
   ]
  },
  {
   "cell_type": "code",
   "execution_count": 18,
   "metadata": {},
   "outputs": [
    {
     "name": "stdout",
     "output_type": "stream",
     "text": [
      "Enter the number to be searched in the array: 1000000\n",
      "Index positions:  0 , 999999\n",
      "Mid point:  499999\n",
      "\n",
      "Index positions:  500000 , 999999\n",
      "Mid point:  749999\n",
      "\n",
      "Index positions:  750000 , 999999\n",
      "Mid point:  874999\n",
      "\n",
      "Index positions:  875000 , 999999\n",
      "Mid point:  937499\n",
      "\n",
      "Index positions:  937500 , 999999\n",
      "Mid point:  968749\n",
      "\n",
      "Index positions:  968750 , 999999\n",
      "Mid point:  984374\n",
      "\n",
      "Index positions:  984375 , 999999\n",
      "Mid point:  992187\n",
      "\n",
      "Index positions:  992188 , 999999\n",
      "Mid point:  996093\n",
      "\n",
      "Index positions:  996094 , 999999\n",
      "Mid point:  998046\n",
      "\n",
      "Index positions:  998047 , 999999\n",
      "Mid point:  999023\n",
      "\n",
      "Index positions:  999024 , 999999\n",
      "Mid point:  999511\n",
      "\n",
      "Index positions:  999512 , 999999\n",
      "Mid point:  999755\n",
      "\n",
      "Index positions:  999756 , 999999\n",
      "Mid point:  999877\n",
      "\n",
      "Index positions:  999878 , 999999\n",
      "Mid point:  999938\n",
      "\n",
      "Index positions:  999939 , 999999\n",
      "Mid point:  999969\n",
      "\n",
      "Index positions:  999970 , 999999\n",
      "Mid point:  999984\n",
      "\n",
      "Index positions:  999985 , 999999\n",
      "Mid point:  999992\n",
      "\n",
      "Index positions:  999993 , 999999\n",
      "Mid point:  999996\n",
      "\n",
      "Index positions:  999997 , 999999\n",
      "Mid point:  999998\n",
      "\n",
      "Index positions:  999999 , 999999\n",
      "Mid point:  999999\n",
      "\n",
      "Element is not present in array\n",
      "Time taken to complete binary search: 0.0054919720 seconds\n"
     ]
    }
   ],
   "source": [
    "import time\n",
    "def binary_search(array, x):\n",
    "    low = 0\n",
    "    high = len(array) - 1\n",
    "    mid = 0\n",
    "    while low <= high:\n",
    "        mid = (high + low) // 2\n",
    "        print(\"Index positions: \",low,\",\",high)\n",
    "        print(\"Mid point: \",mid)\n",
    "        print()\n",
    "        # If x is greater, ignore left half\n",
    "        if array[mid] < x:\n",
    "            low = mid + 1\n",
    " \n",
    "        # If x is smaller, ignore right half\n",
    "        elif array[mid] > x:\n",
    "            high = mid - 1\n",
    " \n",
    "        # means x is present at mid\n",
    "        else:\n",
    "            return mid\n",
    "        \n",
    "    # If we reach here, then the element was not present\n",
    "    return -1\n",
    " \n",
    "\n",
    "        \n",
    "array = [ x for x in range(1000000)]\n",
    "#array.sort()\n",
    "x=int(input(\"Enter the number to be searched in the array: \"))\n",
    " \n",
    "# Function call\n",
    "start_time_1 = time.time()\n",
    "result_binary_search = binary_search(array, x)\n",
    "      \n",
    "if result_binary_search != -1:\n",
    "    print(\"Element is present at index\", str(result_binary_search),\"in the sorted array\")\n",
    "else:\n",
    "    print(\"Element is not present in array\")\n",
    "print(\"Time taken to complete binary search: %.10f seconds\" % (time.time() - start_time_1))\n",
    "    \n",
    "\n"
   ]
  },
  {
   "cell_type": "markdown",
   "metadata": {},
   "source": [
    "### SEQUENTIAL (LINEAR) SEARCH"
   ]
  },
  {
   "cell_type": "code",
   "execution_count": 25,
   "metadata": {},
   "outputs": [
    {
     "name": "stdout",
     "output_type": "stream",
     "text": [
      "Enter the number to be searched in the array: 1000000\n",
      "Element is not present in array\n",
      "Time taken to complete sequential search: 0.0659339428 seconds \n"
     ]
    }
   ],
   "source": [
    "import time\n",
    "def sequential_search(array,x):\n",
    "    for i in range(len(array)):\n",
    "        #print(i,end=\" \")\n",
    "        if array[i]==x:\n",
    "            return i\n",
    "    return -1\n",
    "array = [ x for x in range(1000000)]\n",
    "#print(array)\n",
    "x=int(input(\"Enter the number to be searched in the array: \"))\n",
    "\n",
    "start_time_2 = time.time()\n",
    "result_seq_search= sequential_search(array,x)\n",
    "if result_seq_search != -1:\n",
    "    print(\"Element is present at index\", str(result_seq_search))\n",
    "else:\n",
    "    print(\"Element is not present in array\")\n",
    "print(\"Time taken to complete sequential search: %.10f seconds \" % (time.time() - start_time_2))"
   ]
  },
  {
   "cell_type": "markdown",
   "metadata": {},
   "source": [
    "## We see that binary search is a more efficient algorithm than linear search"
   ]
  },
  {
   "cell_type": "markdown",
   "metadata": {},
   "source": [
    "## BINARY SEARCH (RECURSIVE APPROACH)"
   ]
  },
  {
   "cell_type": "code",
   "execution_count": 24,
   "metadata": {},
   "outputs": [
    {
     "name": "stdout",
     "output_type": "stream",
     "text": [
      "Index positions:  0 , 999999\n",
      "\n",
      "Index positions:  500000 , 999999\n",
      "\n",
      "Index positions:  750000 , 999999\n",
      "\n",
      "Index positions:  875000 , 999999\n",
      "\n",
      "Index positions:  937500 , 999999\n",
      "\n",
      "Index positions:  968750 , 999999\n",
      "\n",
      "Index positions:  984375 , 999999\n",
      "\n",
      "Index positions:  992188 , 999999\n",
      "\n",
      "Index positions:  996094 , 999999\n",
      "\n",
      "Index positions:  998047 , 999999\n",
      "\n",
      "Index positions:  999024 , 999999\n",
      "\n",
      "Index positions:  999512 , 999999\n",
      "\n",
      "Index positions:  999756 , 999999\n",
      "\n",
      "Index positions:  999878 , 999999\n",
      "\n",
      "Index positions:  999939 , 999999\n",
      "\n",
      "Index positions:  999970 , 999999\n",
      "\n",
      "Index positions:  999985 , 999999\n",
      "\n",
      "Index positions:  999993 , 999999\n",
      "\n",
      "Index positions:  999997 , 999999\n",
      "\n",
      "Index positions:  999999 , 999999\n",
      "\n",
      "Index positions:  1000000 , 999999\n",
      "\n",
      "Element not found!\n",
      "Time taken to complete sequential search: 0.0086262226 seconds \n"
     ]
    }
   ],
   "source": [
    "def binary_search(my_list, low, high, elem):\n",
    "    print(\"Index positions: \",low,\",\",high)\n",
    "    print()\n",
    "    if high >= low:\n",
    "        mid = (high + low) // 2\n",
    "        if my_list[mid] == elem:\n",
    "             return mid\n",
    "        elif my_list[mid] > elem:\n",
    "             return binary_search(my_list, low, mid - 1, elem)\n",
    "        else:\n",
    "             return binary_search(my_list, mid + 1, high, elem)\n",
    "    else:\n",
    "        return -1\n",
    "     \n",
    "my_list = [ x for x in range(1000000)]\n",
    "elem_to_search = 1000000\n",
    "\n",
    "\n",
    "start_time_2 = time.time()\n",
    "my_result = binary_search(my_list,0,len(my_list)-1,elem_to_search)\n",
    "\n",
    "if my_result != -1:\n",
    "   print(\"Element found at index \", str(my_result))\n",
    "else:\n",
    "   print(\"Element not found!\")\n",
    "print(\"Time taken to complete sequential search: %.10f seconds \" % (time.time() - start_time_2))"
   ]
  }
 ],
 "metadata": {
  "kernelspec": {
   "display_name": "Python 3",
   "language": "python",
   "name": "python3"
  },
  "language_info": {
   "codemirror_mode": {
    "name": "ipython",
    "version": 3
   },
   "file_extension": ".py",
   "mimetype": "text/x-python",
   "name": "python",
   "nbconvert_exporter": "python",
   "pygments_lexer": "ipython3",
   "version": "3.8.5"
  }
 },
 "nbformat": 4,
 "nbformat_minor": 4
}
