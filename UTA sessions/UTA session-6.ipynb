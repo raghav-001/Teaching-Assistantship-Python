{
 "cells": [
  {
   "cell_type": "markdown",
   "metadata": {},
   "source": [
    "# 16-10-2021"
   ]
  },
  {
   "cell_type": "markdown",
   "metadata": {},
   "source": [
    "# Attention to detail: Please follow sentence case (upper or lower) that is expected as the output format"
   ]
  },
  {
   "cell_type": "markdown",
   "metadata": {},
   "source": [
    "## Given a string, print all the letters that are in uppercase and lowercase along with its positions"
   ]
  },
  {
   "cell_type": "code",
   "execution_count": 1,
   "metadata": {},
   "outputs": [
    {
     "name": "stdout",
     "output_type": "stream",
     "text": [
      "65\n"
     ]
    }
   ],
   "source": [
    "print(ord('A'))"
   ]
  },
  {
   "cell_type": "code",
   "execution_count": 2,
   "metadata": {},
   "outputs": [
    {
     "name": "stdout",
     "output_type": "stream",
     "text": [
      "90\n"
     ]
    }
   ],
   "source": [
    "print(ord(\"Z\"))"
   ]
  },
  {
   "cell_type": "code",
   "execution_count": 3,
   "metadata": {},
   "outputs": [
    {
     "name": "stdout",
     "output_type": "stream",
     "text": [
      "97\n"
     ]
    }
   ],
   "source": [
    "print(ord(\"a\"))"
   ]
  },
  {
   "cell_type": "code",
   "execution_count": 4,
   "metadata": {},
   "outputs": [
    {
     "name": "stdout",
     "output_type": "stream",
     "text": [
      "122\n"
     ]
    }
   ],
   "source": [
    "print(ord(\"z\"))"
   ]
  },
  {
   "cell_type": "code",
   "execution_count": 5,
   "metadata": {},
   "outputs": [
    {
     "name": "stdout",
     "output_type": "stream",
     "text": [
      "0 -> a -> Lowercase\n",
      "1 -> a -> Lowercase\n",
      "2 -> B -> Uppercase\n",
      "3 -> s -> Lowercase\n",
      "4 -> f -> Lowercase\n",
      "5 -> j -> Lowercase\n",
      "6 -> d -> Lowercase\n",
      "7 -> D -> Uppercase\n",
      "8 -> l -> Lowercase\n",
      "9 -> d -> Lowercase\n",
      "10 -> j -> Lowercase\n",
      "11 -> g -> Lowercase\n",
      "12 -> G -> Uppercase\n",
      "13 -> J -> Uppercase\n",
      "14 -> o -> Lowercase\n",
      "15 -> p -> Lowercase\n"
     ]
    }
   ],
   "source": [
    "string=\"aaBsfjdDldjgGJop\"\n",
    "for i in range(len(string)):\n",
    "    if ord(string[i])>=65 and ord(string[i])<=90:\n",
    "        print(i,\"->\",string[i],\"-> Uppercase\")\n",
    "    else:\n",
    "        print(i,\"->\",string[i],\"-> Lowercase\")"
   ]
  },
  {
   "cell_type": "markdown",
   "metadata": {},
   "source": [
    "### Adding another condition"
   ]
  },
  {
   "cell_type": "code",
   "execution_count": 6,
   "metadata": {},
   "outputs": [
    {
     "name": "stdout",
     "output_type": "stream",
     "text": [
      "0 -> a -> Lowercase\n",
      "1 -> a -> Lowercase\n",
      "2 -> B -> Uppercase\n",
      "3 -> s -> Lowercase\n",
      "4 -> f -> Lowercase\n",
      "5 -> j -> Lowercase\n",
      "6 -> d -> Lowercase\n",
      "7 -> D -> Uppercase\n",
      "8 -> l -> Lowercase\n",
      "9 -> d -> Lowercase\n",
      "10 -> 2 -> Not a character\n",
      "11 -> 3 -> Not a character\n",
      "12 -> 4 -> Not a character\n",
      "13 -> % -> Not a character\n",
      "14 -> & -> Not a character\n",
      "15 -> * -> Not a character\n",
      "16 -> 2 -> Not a character\n",
      "17 -> j -> Lowercase\n",
      "18 -> g -> Lowercase\n",
      "19 -> G -> Uppercase\n",
      "20 -> J -> Uppercase\n",
      "21 -> o -> Lowercase\n",
      "22 -> p -> Lowercase\n"
     ]
    }
   ],
   "source": [
    "string=\"aaBsfjdDld234%&*2jgGJop\"\n",
    "for i in range(len(string)):\n",
    "    if ord(string[i])>=65 and ord(string[i])<=90:\n",
    "        print(i,\"->\",string[i],\"-> Uppercase\")\n",
    "    elif ord(string[i])>=97 and ord(string[i])<=122:\n",
    "        print(i,\"->\",string[i],\"-> Lowercase\")\n",
    "    else:\n",
    "        print(i,\"->\",string[i],\"-> Not a character\")"
   ]
  },
  {
   "cell_type": "markdown",
   "metadata": {},
   "source": [
    "## Right shift the elements in the list by \"n\" positions"
   ]
  },
  {
   "cell_type": "code",
   "execution_count": 7,
   "metadata": {},
   "outputs": [
    {
     "name": "stdout",
     "output_type": "stream",
     "text": [
      "[9, 2, 7, 3, 4, 5, 6]\n",
      "[6, 9, 2, 7, 3, 4, 5]\n"
     ]
    }
   ],
   "source": [
    "l=[2,7,3,4,5,6,9]\n",
    "n=2\n",
    "for i in range(n):\n",
    "    last=l[-1]\n",
    "    for j in range(len(l)-1,0,-1):\n",
    "        l[j]=l[j-1]\n",
    "    l[0]=last\n",
    "    print(l)"
   ]
  },
  {
   "cell_type": "markdown",
   "metadata": {},
   "source": [
    "### Power of the % operator (pattern and cyclic movement)"
   ]
  },
  {
   "cell_type": "code",
   "execution_count": 8,
   "metadata": {},
   "outputs": [
    {
     "name": "stdout",
     "output_type": "stream",
     "text": [
      "[9, 2, 7, 3, 4, 5, 6]\n",
      "[6, 9, 2, 7, 3, 4, 5]\n",
      "[5, 6, 9, 2, 7, 3, 4]\n",
      "[4, 5, 6, 9, 2, 7, 3]\n",
      "[3, 4, 5, 6, 9, 2, 7]\n"
     ]
    }
   ],
   "source": [
    "l=[2,7,3,4,5,6,9]\n",
    "n=100000\n",
    "n=n%len(l)\n",
    "for i in range(n):\n",
    "    last=l[-1]\n",
    "    for j in range(len(l)-1,0,-1):\n",
    "        l[j]=l[j-1]\n",
    "    l[0]=last\n",
    "    print(l)"
   ]
  },
  {
   "cell_type": "markdown",
   "metadata": {},
   "source": [
    "## Left shift the elements in the list by \"n\" positions"
   ]
  },
  {
   "cell_type": "code",
   "execution_count": 9,
   "metadata": {},
   "outputs": [
    {
     "name": "stdout",
     "output_type": "stream",
     "text": [
      "[7, 3, 4, 5, 6, 9, 2]\n"
     ]
    }
   ],
   "source": [
    "l=[2,7,3,4,5,6,9]\n",
    "n=1\n",
    "for i in range(n):\n",
    "    first=l[0]\n",
    "    for j in range(0,len(l)-1):\n",
    "        l[j]=l[j+1]\n",
    "    l[-1]=first\n",
    "print(l)"
   ]
  },
  {
   "cell_type": "markdown",
   "metadata": {},
   "source": [
    "### Power of the % operator yet again"
   ]
  },
  {
   "cell_type": "code",
   "execution_count": 10,
   "metadata": {},
   "outputs": [
    {
     "name": "stdout",
     "output_type": "stream",
     "text": [
      "[6, 9, 2, 7, 3, 4, 5]\n"
     ]
    }
   ],
   "source": [
    "l=[2,7,3,4,5,6,9]\n",
    "n=100000000000\n",
    "n=n%len(l)\n",
    "for i in range(n):\n",
    "    first=l[0]\n",
    "    for j in range(0,len(l)-1):\n",
    "        l[j]=l[j+1]\n",
    "    l[-1]=first\n",
    "print(l)"
   ]
  }
 ],
 "metadata": {
  "kernelspec": {
   "display_name": "Python 3",
   "language": "python",
   "name": "python3"
  },
  "language_info": {
   "codemirror_mode": {
    "name": "ipython",
    "version": 3
   },
   "file_extension": ".py",
   "mimetype": "text/x-python",
   "name": "python",
   "nbconvert_exporter": "python",
   "pygments_lexer": "ipython3",
   "version": "3.8.5"
  }
 },
 "nbformat": 4,
 "nbformat_minor": 4
}
