{
 "cells": [
  {
   "cell_type": "markdown",
   "metadata": {},
   "source": [
    "# 24-11-2021"
   ]
  },
  {
   "cell_type": "markdown",
   "metadata": {},
   "source": [
    "# SORTING TECHNIQUES"
   ]
  },
  {
   "cell_type": "markdown",
   "metadata": {},
   "source": [
    "## BUBBLE SORT"
   ]
  },
  {
   "cell_type": "code",
   "execution_count": 1,
   "metadata": {},
   "outputs": [
    {
     "name": "stdout",
     "output_type": "stream",
     "text": [
      "Initial list:\n",
      "[5, 3, 8, 6, 7, 2, 11]\n",
      "Bubble sort in progress..\n",
      "[3, 5, 8, 6, 7, 2, 11]\n",
      "[3, 5, 6, 8, 7, 2, 11]\n",
      "[3, 5, 6, 7, 8, 2, 11]\n",
      "[3, 5, 6, 7, 2, 8, 11]\n",
      "[3, 5, 6, 2, 7, 8, 11]\n",
      "[3, 5, 2, 6, 7, 8, 11]\n",
      "[3, 2, 5, 6, 7, 8, 11]\n",
      "[2, 3, 5, 6, 7, 8, 11]\n",
      "Final list after sorting in ascending order:\n",
      "[2, 3, 5, 6, 7, 8, 11]\n"
     ]
    }
   ],
   "source": [
    "def bubble_sort(list):  \n",
    "    for i in range(0,len(list)-1):  \n",
    "        for j in range(len(list)-1):  \n",
    "            if(list[j]>list[j+1]):  \n",
    "                temp = list[j]  \n",
    "                list[j] = list[j+1]  \n",
    "                list[j+1] = temp  \n",
    "                print(list)\n",
    "    return list \n",
    "  \n",
    "list = [5, 3, 8, 6, 7, 2,11]  \n",
    "print(\"Initial list:\")\n",
    "print(list)\n",
    "print(\"Bubble sort in progress..\")\n",
    "sorted_list=bubble_sort(list)\n",
    "print(\"Final list after sorting in ascending order:\")\n",
    "print(sorted_list)"
   ]
  },
  {
   "cell_type": "markdown",
   "metadata": {},
   "source": [
    "## SELECTION SORT"
   ]
  },
  {
   "cell_type": "code",
   "execution_count": 2,
   "metadata": {},
   "outputs": [
    {
     "name": "stdout",
     "output_type": "stream",
     "text": [
      "Initial list:\n",
      "[20, 12, 10, 15, 2]\n",
      "Selection sort in progress..\n",
      "Minimum number currently is: 12\n",
      "Minimum number currently is: 10\n",
      "Minimum number currently is: 2\n",
      "[2, 12, 10, 15, 20]\n",
      "Minimum number currently is: 10\n",
      "[2, 10, 12, 15, 20]\n",
      "[2, 10, 12, 15, 20]\n",
      "[2, 10, 12, 15, 20]\n",
      "[2, 10, 12, 15, 20]\n",
      "Final list after sorting in ascending order:\n",
      "[2, 10, 12, 15, 20]\n"
     ]
    }
   ],
   "source": [
    "def selectionSort(array, size):\n",
    "    for step in range(size):\n",
    "        min_idx = step\n",
    "        for i in range(step + 1, size):\n",
    "            if array[i] < array[min_idx]:\n",
    "                min_idx = i\n",
    "                print(\"Minimum number currently is:\",array[min_idx])\n",
    "        (array[step], array[min_idx]) = (array[min_idx], array[step])\n",
    "        print(array)\n",
    "data = [20,12,10,15,2] \n",
    "print(\"Initial list:\")\n",
    "print(data)\n",
    "print(\"Selection sort in progress..\")\n",
    "selectionSort(data, len(data))\n",
    "print(\"Final list after sorting in ascending order:\")\n",
    "print(data)"
   ]
  },
  {
   "cell_type": "markdown",
   "metadata": {},
   "source": [
    "## INSERTION SORT"
   ]
  },
  {
   "cell_type": "code",
   "execution_count": 3,
   "metadata": {},
   "outputs": [
    {
     "name": "stdout",
     "output_type": "stream",
     "text": [
      "Initial list:\n",
      "[9, 5, 1, 4, 3]\n",
      "Insertion sort in progress..\n",
      "Current key: 5\n",
      "[5, 9, 1, 4, 3]\n",
      "Current key: 1\n",
      "[1, 5, 9, 4, 3]\n",
      "Current key: 4\n",
      "[1, 4, 5, 9, 3]\n",
      "Current key: 3\n",
      "[1, 3, 4, 5, 9]\n",
      "Final list after sorting in ascending order:\n",
      "[1, 3, 4, 5, 9]\n"
     ]
    }
   ],
   "source": [
    "def insertionSort(array):\n",
    "    for step in range(1, len(array)):\n",
    "        key = array[step]\n",
    "        print(\"Current key:\",key)\n",
    "        j = step - 1        \n",
    "        while j >= 0 and key < array[j]:\n",
    "            array[j + 1] = array[j]\n",
    "            j = j - 1\n",
    "        array[j + 1] = key \n",
    "        print(array)\n",
    "data = [9, 5, 1, 4, 3]\n",
    "print(\"Initial list:\")\n",
    "print(data)\n",
    "print(\"Insertion sort in progress..\")\n",
    "insertionSort(data)\n",
    "print(\"Final list after sorting in ascending order:\")\n",
    "print(data)"
   ]
  }
 ],
 "metadata": {
  "kernelspec": {
   "display_name": "Python 3",
   "language": "python",
   "name": "python3"
  },
  "language_info": {
   "codemirror_mode": {
    "name": "ipython",
    "version": 3
   },
   "file_extension": ".py",
   "mimetype": "text/x-python",
   "name": "python",
   "nbconvert_exporter": "python",
   "pygments_lexer": "ipython3",
   "version": "3.8.5"
  }
 },
 "nbformat": 4,
 "nbformat_minor": 4
}
